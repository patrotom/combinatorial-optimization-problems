{
 "cells": [
  {
   "cell_type": "markdown",
   "metadata": {},
   "source": [
    "# 1 Knapsack Problem\n",
    "\n",
    "The knapsack problem is one of the most trivial NP-hard problems. We can encounter many of its variants in the literature, which generally have various solution requirements for the algorithm. The formulation always contains criterium for the overall price, which means it is an optimization problem.\n",
    "\n",
    "## 1.1 Author of Report\n",
    "\n",
    "* **Name:** Tomáš Patro\n",
    "* **Username:** patrotom\n",
    "* **Email:** patrotom@fit.cvut.cz\n",
    "\n",
    "## 1.2 Base of Problem\n",
    "\n",
    "We are given\n",
    "\n",
    "* integer $n$ (number of items)\n",
    "* integer $M$ (capacity of knapsack)\n",
    "* finite set $V = \\{v_1, v_2, \\dots, v_n\\}$ (weights of items)\n",
    "* finite set $C = \\{c_1, c_2, \\dots, c_n\\}$ (prices of items)\n",
    "\n",
    "## 1.3 Construction 0/1 Problem Form\n",
    "\n",
    "The most well-known is the construction form. If we talk about the “knapsack problem” without a further description, we usually mean this version:\n",
    "\n",
    "Construct the set $X = \\{x_1, x_2, \\dots, x_n\\}$ where each $x_i$ is either $0$ or $1$, so $$v_1x_1 + v_2x_2 + \\dots + v_nx_n \\leq M \\text{(knapsack is not overloaded)}$$ and expression $$c_1x_1 + c_2x_2 + \\dots + c_nx_n$$ gains maximal value for all given sets (value of the items in the knapsack is maximal).\n",
    "\n",
    "<br>\n",
    "\n",
    "(“B201-NI-KOP: Problém Batohu (Knapsack Problem)” 2020)"
   ]
  },
  {
   "cell_type": "markdown",
   "metadata": {},
   "source": [
    "# 2 Solution approaches\n",
    "\n",
    "In the following section, we will describe approaches (algorithms) to solve the given problem:\n",
    "\n",
    "* Brute force\n",
    "* Branch and bound (B&B)\n",
    "* Greedy heuristic\n",
    "* Redux heuristic\n",
    "* Dynamic programming (decomposition by weight)\n",
    "\n",
    "Brute force, B&B, and dynamic programming algorithms find the optimal price. Greedy, and redux algorithms may not find the optimal price, and we track the relative error of the computation. We compare the found price with the optimal price computed by the B&B algorithm."
   ]
  },
  {
   "cell_type": "markdown",
   "metadata": {},
   "source": [
    "## 2.1 Brute Force\n",
    "\n",
    "In the brute force approach, we search the whole state space to find the optimal price and configuration.\n",
    "\n",
    "Let us look at the code snippet of the algorithm:\n",
    "\n",
    "``` python\n",
    "def brute_force(conf, i, weight, price):\n",
    "    if i == instance.size:\n",
    "        if price >= solution.price and weight <= instance.capacity:\n",
    "            solution.price = price\n",
    "            solution.conf = conf\n",
    "        return\n",
    "\n",
    "    new_weight = instance.items[i].weight + weight\n",
    "    new_price = instance.items[i].price + price\n",
    "\n",
    "    conf[i] = 1\n",
    "    brute_force(conf, i + 1, new_weight, new_price)\n",
    "\n",
    "    conf[i] = 0\n",
    "    brute_force(conf, i + 1, weight, price)\n",
    "```\n",
    "\n",
    "The algorithm starts by comparing the current depth of the recursion `i` with the size of the instance. We use to comparison to determine if we have already solved one of the branches of recursion. If the `price` is greater or equal to the current optimal price and the `weight` is less than or equal to the knapsack capacity, we update the `solution` object with the new values – `price` and vector configuration `conf`.\n",
    "\n",
    "Next, we compute a new weight by adding the current weight to the particular items' weight. To cover the whole state space, we have to call the recursion with the current bit set to either $0$ or $1$. We also have to recalculate the price and weight. We later send them the recursion if the bit is set to $1$ – it means that the item is added to the knapsack. In this way, we construct the whole state space and find the optimal solution."
   ]
  },
  {
   "cell_type": "markdown",
   "metadata": {},
   "source": [
    "## 2.2 Branch and Bound (B&B)\n",
    "\n",
    "The beginning of the B&B algorithm is the same as in the brute force algorithm. The only difference is in the condition we use for the cutting of the recursion calls (state space). Let us take a look at the difference in the algorithm:\n",
    "\n",
    "``` python\n",
    "def branch_and_bound(conf, i, weight, price):\n",
    "    if i == instance.size:\n",
    "        if price >= solution.price:\n",
    "            solution.price = price\n",
    "            solution.conf = conf\n",
    "        return\n",
    "    \n",
    "    new_weight = instance.items[i].weight + weight\n",
    "    new_price = instance.items[i].price + price\n",
    "    upper_bound = price + instance.prices_sum(i=i)\n",
    "\n",
    "    conf[i] = 1\n",
    "    if (new_weight <= instance.capacity) and (upper_bound > solution.price):\n",
    "        branch_and_bound(conf, i + 1, new_weight, new_price)\n",
    "\n",
    "    conf[i] = 0\n",
    "    branch_and_bound(conf, i + 1, weight, price)\n",
    "```\n",
    "\n",
    "We add the condition by checking if the current `price` added to the sum of prices of the unvisited items (on the index `i` and greater) is greater than the current optimal price. We also check if the `new_weight` does not overload the knapsack. We can cut the recursion branch if we do not meet this condition. This way, we cut the branches of the state space, which do not lead us to the optimal price and valid solution."
   ]
  },
  {
   "cell_type": "markdown",
   "metadata": {},
   "source": [
    "## 2.3 Greedy Heuristic\n",
    "\n",
    "We implement a simple heuristic using the relation between the price and weight. Let us take a look at the algorithm:\n",
    "\n",
    "``` python\n",
    "def greedy():\n",
    "    instance.sort_items()\n",
    "    capacity = instance.capacity\n",
    "    price = 0\n",
    "\n",
    "    for item in instance.items:\n",
    "        if capacity >= item.weight:\n",
    "            price += item.price\n",
    "            capacity -= item.weight\n",
    "            solution.conf[item.index] = 1\n",
    "    \n",
    "    solution.price = price\n",
    "```\n",
    "\n",
    "We start by sorting the items in descending order by $price/weight$ ratio. Then we iterate the items in this order. We check if the current capacity is greater or equal to the current items' weight in each iteration. If we meet this condition, we add the items' price to the overall price and lowers the capacity by the items' weight. We also update the configuration because we know that the item will be present in the result."
   ]
  },
  {
   "cell_type": "markdown",
   "metadata": {},
   "source": [
    "## 2.4 Redux Heuristic\n",
    "\n",
    "Since we can encounter a situation where, for example, the last item alone would give us the optimal solution, we enhance the greedy heuristic in the following fashion:\n",
    "\n",
    "``` python\n",
    "def redux():\n",
    "    greedy = Greedy()\n",
    "    greedy.solve()\n",
    "    highest_price, index = find_highest_price()\n",
    "\n",
    "    if greedy.solution.price > highest_price:\n",
    "        solution.price = greedy.solution.price\n",
    "        solution.conf = greedy.solution.conf\n",
    "    else:\n",
    "        solution.price = highest_price\n",
    "        solution.conf[index] = 1\n",
    "\n",
    "def find_highest_price():\n",
    "    highest_price = 0\n",
    "    index = -1\n",
    "    for item in instance.items:\n",
    "        if item.price > highest_price and item.weight <= instance.capacity:\n",
    "            highest_price = item.price\n",
    "            index = item.index\n",
    "    \n",
    "    return (highest_price, index)\n",
    "```\n",
    "\n",
    "First, we calculate the price using the greedy algorithm. Next, we find the highest price of an item that does not overload the knapsack. Then, we compare the price found by the greedy algorithm with the highest price – the solution depends on the price, which is higher."
   ]
  },
  {
   "cell_type": "markdown",
   "metadata": {},
   "source": [
    "## 2.5 Dynamic Programming (Weight Decomposition)\n",
    "\n",
    "The subproblems are re-evaluated, and the problem has overlapping subproblems property. We can take advantage of the dynamic programming by constructing a temporary 2D array `table` in a bottom-up manner:\n",
    "\n",
    "``` python\n",
    "def dynamic_by_weight():\n",
    "    capacity = instance.capacity\n",
    "    size = instance.size\n",
    "    table = [[0 for x in range(capacity + 1)] for x in range(size + 1)]\n",
    "\n",
    "    for i in range(size + 1):\n",
    "        for w in range(capacity + 1):\n",
    "            weight = instance.items[i - 1].weight\n",
    "            price = instance.items[i - 1].price\n",
    "\n",
    "            if i == 0 or w == 0:\n",
    "                table[i][w] = 0\n",
    "            elif weight <= w:\n",
    "                table[i][w] = max(\n",
    "                    price + table[i - 1][w - weight],\n",
    "                    table[i - 1][w]\n",
    "                )\n",
    "            else:\n",
    "                table[i][w] = table[i - 1][w]\n",
    "\n",
    "    solution.price = table[size][capacity]\n",
    "    solution.conf = construct_conf(capacity)\n",
    "\n",
    "def construct_conf():\n",
    "    conf = []\n",
    "\n",
    "    for i in range(instance.size, 0, -1):\n",
    "        if table[i][capacity] == table[i - 1][capacity]:\n",
    "            conf.append(0)\n",
    "        else:\n",
    "            conf.append(1)\n",
    "            capacity -= inst.items[i - 1].weight\n",
    "\n",
    "    conf.reverse()\n",
    "\n",
    "    return conf\n",
    "```\n",
    "\n",
    "In this solution, we take an approach where we compare the situation where the $n$th item is in the solution and when it is not. When we compare these two situations, we determine whether the item should or should not be in the solution. We repeat this process unless we encounter trivial subproblems. This approach leads us to an optimal solution. Afterward, we iterate over the table in a backward fashion to reconstruct the optimal solution's configuration."
   ]
  },
  {
   "cell_type": "markdown",
   "metadata": {},
   "source": [
    "# 3 Experimental Evaluation of Algorithms Quality\n",
    "\n",
    "There is a lot of different algorithms for solving the knapsack problem. However, we do not know too much about their behavior. If we want to gather information about their behavior, we have to evaluate them experimentally.\n",
    "\n",
    "We observe two important aspects:\n",
    "\n",
    "1. quality of the solution\n",
    "2. execution time\n",
    "\n",
    "We observe these aspects in relation to different parameters of an instance. If we put these two aspects into relation, we can figure out which algorithm is the most suitable based on the combination of the requirements on these aspects. We also observe the stability of the algorithm given a different order of the items – robustness.\n",
    "\n",
    "We use a prepared generator of the instances *kg2*, which can be parametrized, and thus, we can observe how the algorithm behaves under different conditions. We relate to the different behavior of an algorithm as to the sensitivity of the algorithm. We assume that the different parameters do not relate to each other – we set the parameters to the constant values and always change only one parameter."
   ]
  },
  {
   "cell_type": "markdown",
   "metadata": {},
   "source": [
    "**Data analysis:**\n",
    "\n",
    "We analyze the data using the *Python* language and its mathematical modules. The graphs and the whole report are rendered in the *Jupyter Notebook* – that's why we also add the code snippets in this report, which process data and generate the graphs."
   ]
  },
  {
   "cell_type": "markdown",
   "metadata": {},
   "source": [
    "**Execution time measuring:**\n",
    "\n",
    "We measured the execution time for each run of an algorithm and saved the data to the prepared object. All execution times in this report were measured using the Python `timeit` module, which measures CPU time. The times you see in the following graphs are represented in **miliseconds \\[ms\\]**.\n",
    "\n",
    "Computer configuration:\n",
    "\n",
    "* **CPU:** Intel(R) Core(TM) i5-8265U CPU @ 1.60GHz\n",
    "* **OS:** Linux Mint 19.2\n",
    "* **Linux kernel:** 5.4.0-48-generic"
   ]
  },
  {
   "cell_type": "markdown",
   "metadata": {},
   "source": [
    "**Generator parameters:**\n",
    "\n",
    "* $n$ – number of items\n",
    "* $N$ – number of instances\n",
    "* $m$ – knapsack capacity and sum weight ratio (real number / uniform distribution interval)\n",
    "* $W$ – maximum item weight\n",
    "* $w$ – light/heavy items dominance\n",
    "* $C$ – maximum item price\n",
    "* $c$ – corelation between price and weight\n",
    "* $k$ – granularity exponent\n",
    "\n",
    "We use these constant values in all runs of the generator:\n",
    "\n",
    "* $n = 20$\n",
    "* $N = 100$\n",
    "* $W = 550$\n",
    "* $C = 300$\n",
    "* $m \\in \\{0.01, 0.208, 0.406, 0.604, 0.802, 1.0\\}$"
   ]
  },
  {
   "cell_type": "code",
   "execution_count": 1,
   "metadata": {},
   "outputs": [],
   "source": [
    "import sys\n",
    "import os\n",
    "module_path = os.path.abspath(os.path.join('..'))\n",
    "if module_path not in sys.path:\n",
    "    sys.path.append(module_path)\n",
    "import copy\n",
    "import numpy as np\n",
    "import pandas as pd\n",
    "import matplotlib.pyplot as plt\n",
    "import matplotlib.ticker as ticker\n",
    "\n",
    "from knapsack_solver import KnapsackSolver"
   ]
  },
  {
   "cell_type": "code",
   "execution_count": 18,
   "metadata": {},
   "outputs": [],
   "source": [
    "# Helper functions and configuration\n",
    "\n",
    "plt.rcParams['figure.figsize'] = (16, 9)\n",
    "\n",
    "# Graph config\n",
    "def bar_plot(ax, data, colors=None, total_width=0.8, single_width=1, legend=True):\n",
    "    if colors is None:\n",
    "        colors = plt.rcParams['axes.prop_cycle'].by_key()['color']\n",
    "\n",
    "    n_bars = len(data)\n",
    "    bar_width = total_width / n_bars\n",
    "    bars = []\n",
    "\n",
    "    for i, (name, values) in enumerate(data.items()):\n",
    "        x_offset = (i - n_bars / 2) * bar_width + bar_width / 2\n",
    "        for x, y in enumerate(values):\n",
    "            bar = ax.bar(x + x_offset, y, width=bar_width * single_width, color=colors[i % len(colors)])\n",
    "            height = bar[0].get_height()\n",
    "        bars.append(bar[0])\n",
    "\n",
    "    if legend:\n",
    "        ax.legend(bars, data.keys())\n",
    "\n",
    "def graph_color(version):\n",
    "    switcher = {\n",
    "        \"bb\": \"blue\",\n",
    "        \"dw\": \"green\",\n",
    "        \"gh\": \"red\",\n",
    "        \"rgh\": \"orange\",\n",
    "    }\n",
    "    return switcher.get(version, \"blue\")\n",
    "\n",
    "# Graphs\n",
    "def m_graph(data, version):\n",
    "    data_pos = [i for i, _ in enumerate(data.keys())]\n",
    "    plt.bar(data_pos, data.values(), color=graph_color(version))\n",
    "    plt.title(f\"Average execution time by m ({version})\")\n",
    "    plt.xlabel(\"Capacity and sum weight ratio (m)\")\n",
    "    plt.ylabel(\"Execution time [ms]\")\n",
    "    plt.xticks(data_pos, data.keys())\n",
    "    return plt\n",
    "\n",
    "def c_graph(data, version):\n",
    "    data_pos = [i for i, _ in enumerate(data.keys())]\n",
    "    plt.bar(data_pos, data.values(), color=graph_color(version))\n",
    "    plt.title(f\"Average execution time by c ({version})\")\n",
    "    plt.xlabel(\"Corelation between price and weight (c)\")\n",
    "    plt.ylabel(\"Execution time [ms]\")\n",
    "    plt.xticks(data_pos, data.keys())\n",
    "    return plt\n",
    "\n",
    "def k_graph(data, ax, version):\n",
    "    labels = list(map(lambda x: \"{:.1f}\".format(x),np.linspace(-3, 3, 6)))\n",
    "    x = np.arange(len(labels))\n",
    "    ax.set_title(f\"Average execution time by k ({version})\")\n",
    "    ax.set_xlabel(\"Granularity exponent (k)\")\n",
    "    ax.set_ylabel(\"Execution time [ms]\")\n",
    "    ax.set_xticks(x)\n",
    "    ax.set_xticklabels(labels)\n",
    "    bar_plot(ax, data, total_width=.8, single_width=.9)\n",
    "\n",
    "def p_graph(data, version):\n",
    "    data_pos = [i for i, _ in enumerate(data.keys())]\n",
    "    plt.bar(data_pos, data.values(), color=graph_color(version))\n",
    "    plt.title(f\"Average execution time by permuration ({version})\")\n",
    "    plt.xlabel(\"Permutation\")\n",
    "    plt.ylabel(\"Execution time [ms]\")\n",
    "    plt.xticks(data_pos, data.keys())\n",
    "    return plt\n",
    "\n",
    "# Data generating\n",
    "def m_gen(gen_opts, version):\n",
    "    ms = np.linspace(0.01, 1.0, 6)\n",
    "    data = {}\n",
    "    for m in ms:\n",
    "        gen_opts[\"m\"] = m\n",
    "        solver = KnapsackSolver(version, gen_opts)\n",
    "        solver.run()\n",
    "        data[float(\"{:.3f}\".format(m))] = solver.time_mean()\n",
    "    \n",
    "    return data\n",
    "\n",
    "def c_gen(gen_opts, version):\n",
    "    cs = [\"uni\", \"corr\", \"strong\"]\n",
    "    data = {}\n",
    "    for c in cs:\n",
    "        gen_opts[\"c\"] = c\n",
    "        solver = KnapsackSolver(version, gen_opts)\n",
    "        solver.run()\n",
    "        data[c] = solver.time_mean()\n",
    "\n",
    "    return data\n",
    "\n",
    "def k_gen(gen_opts, version):\n",
    "    ks = np.linspace(-3, 3, 6)\n",
    "    ws = [\"light\", \"heavy\"]\n",
    "    data = {\"light\": [], \"heavy\": []}\n",
    "    for w in ws:\n",
    "        gen_opts[\"w\"] = w\n",
    "        for k in ks:\n",
    "            gen_opts[\"k\"] = k\n",
    "            solver = KnapsackSolver(version, gen_opts)\n",
    "            solver.run()\n",
    "            data[w].append(solver.time_mean())\n",
    "    \n",
    "    return data\n",
    "\n",
    "def p_gen(gen_opts, version):\n",
    "    solver = KnapsackSolver(version, gen_opts)\n",
    "    solver.run_perms()\n",
    "    perm_time_means = solver.perm_time_means()\n",
    "    \n",
    "    data = {\n",
    "        \"original\": solver.time_mean(),\n",
    "        \"perm 1\": perm_time_means[0],\n",
    "        \"perm 2\": perm_time_means[1],\n",
    "        \"perm 3\": perm_time_means[2],\n",
    "        \"perm 4\": perm_time_means[3],\n",
    "        \"perm 5\": perm_time_means[4],\n",
    "    }\n",
    "    \n",
    "    return data"
   ]
  },
  {
   "cell_type": "code",
   "execution_count": 15,
   "metadata": {},
   "outputs": [],
   "source": [
    "gen_opts = {\n",
    "    \"n\": 20,\n",
    "    \"N\": 100,\n",
    "    \"W\": 550,\n",
    "    \"C\": 300,\n",
    "}"
   ]
  },
  {
   "cell_type": "markdown",
   "metadata": {},
   "source": [
    "## 3.1 Brute Force\n",
    "\n",
    "Since our version of the brute force algorithm searches the whole state space, there is no need to analyze its behavior. The brute force algorithm always behaves in the same way, no matter the combination of parameters we use to generate the instances."
   ]
  },
  {
   "cell_type": "markdown",
   "metadata": {},
   "source": [
    "## 3.2 Branch and Bound (B&B)\n",
    "\n",
    "`TODO`"
   ]
  },
  {
   "cell_type": "markdown",
   "metadata": {},
   "source": [
    "### 3.2.1 Knapsack Kapacity and Sum Weight Ratio\n",
    "\n",
    "`TODO`"
   ]
  },
  {
   "cell_type": "code",
   "execution_count": 4,
   "metadata": {},
   "outputs": [
    {
     "data": {
      "image/png": "[encoded data removed]",
      "text/plain": [
       "<Figure size 1152x648 with 1 Axes>"
      ]
     },
     "metadata": {
      "needs_background": "light"
     },
     "output_type": "display_data"
    }
   ],
   "source": [
    "m_data = m_gen(gen_opts, \"bb\")\n",
    "plt = m_graph(m_data, \"B&B\")\n",
    "plt.show()"
   ]
  },
  {
   "cell_type": "markdown",
   "metadata": {},
   "source": [
    "### 3.2.2 Price and Weight Corelation\n",
    "\n",
    "`TODO`"
   ]
  },
  {
   "cell_type": "code",
   "execution_count": 5,
   "metadata": {},
   "outputs": [
    {
     "data": {
      "image/png": "[encoded data removed]",
      "text/plain": [
       "<Figure size 1152x648 with 1 Axes>"
      ]
     },
     "metadata": {
      "needs_background": "light"
     },
     "output_type": "display_data"
    }
   ],
   "source": [
    "c_data = c_gen(gen_opts, \"bb\")\n",
    "plt = c_graph(c_data, \"B&B\")\n",
    "plt.show()"
   ]
  },
  {
   "cell_type": "markdown",
   "metadata": {},
   "source": [
    "### 3.2.3 Weight Distribution and Granularity\n",
    "\n",
    "`TODO`"
   ]
  },
  {
   "cell_type": "code",
   "execution_count": 24,
   "metadata": {},
   "outputs": [
    {
     "data": {
      "image/png": "[encoded data removed]",
      "text/plain": [
       "<Figure size 1152x648 with 1 Axes>"
      ]
     },
     "metadata": {
      "needs_background": "light"
     },
     "output_type": "display_data"
    }
   ],
   "source": [
    "k_data = k_gen(gen_opts, \"bb\")\n",
    "fig, ax = plt.subplots()\n",
    "k_graph(k_data, ax, \"B&B\")"
   ]
  },
  {
   "cell_type": "markdown",
   "metadata": {},
   "source": [
    "### 3.2.4 Robustness\n",
    "\n",
    "`TODO`"
   ]
  },
  {
   "cell_type": "code",
   "execution_count": 23,
   "metadata": {},
   "outputs": [
    {
     "data": {
      "image/png": "[encoded data removed]",
      "text/plain": [
       "<Figure size 1152x648 with 1 Axes>"
      ]
     },
     "metadata": {
      "needs_background": "light"
     },
     "output_type": "display_data"
    }
   ],
   "source": [
    "p_data = p_gen(gen_opts, \"bb\")\n",
    "plt = p_graph(p_data, \"B&B\")\n",
    "plt.show()"
   ]
  },
  {
   "cell_type": "markdown",
   "metadata": {},
   "source": [
    "## 3.3 Greedy Heuristic\n",
    "\n",
    "`TODO`"
   ]
  },
  {
   "cell_type": "markdown",
   "metadata": {},
   "source": [
    "### 3.3.1 Knapsack Kapacity and Sum Weight Ratio\n",
    "\n",
    "`TODO`"
   ]
  },
  {
   "cell_type": "code",
   "execution_count": null,
   "metadata": {},
   "outputs": [],
   "source": []
  },
  {
   "cell_type": "markdown",
   "metadata": {},
   "source": [
    "### 3.3.2 Price and Weight Corelation\n",
    "\n",
    "`TODO`"
   ]
  },
  {
   "cell_type": "code",
   "execution_count": null,
   "metadata": {},
   "outputs": [],
   "source": []
  },
  {
   "cell_type": "markdown",
   "metadata": {},
   "source": [
    "### 3.3.3 Weight Distribution and Granularity\n",
    "\n",
    "`TODO`"
   ]
  },
  {
   "cell_type": "code",
   "execution_count": null,
   "metadata": {},
   "outputs": [],
   "source": []
  },
  {
   "cell_type": "markdown",
   "metadata": {},
   "source": [
    "### 3.3.4 Robustness\n",
    "\n",
    "`TODO`"
   ]
  },
  {
   "cell_type": "code",
   "execution_count": null,
   "metadata": {},
   "outputs": [],
   "source": []
  },
  {
   "cell_type": "markdown",
   "metadata": {},
   "source": [
    "## 3.4 Redux Heuristic\n",
    "\n",
    "`TODO`"
   ]
  },
  {
   "cell_type": "markdown",
   "metadata": {},
   "source": [
    "### 3.4.1 Knapsack Kapacity and Sum Weight Ratio\n",
    "\n",
    "`TODO`"
   ]
  },
  {
   "cell_type": "code",
   "execution_count": null,
   "metadata": {},
   "outputs": [],
   "source": []
  },
  {
   "cell_type": "markdown",
   "metadata": {},
   "source": [
    "### 3.4.2 Price and Weight Corelation\n",
    "\n",
    "`TODO`"
   ]
  },
  {
   "cell_type": "code",
   "execution_count": null,
   "metadata": {},
   "outputs": [],
   "source": []
  },
  {
   "cell_type": "markdown",
   "metadata": {},
   "source": [
    "### 3.4.3 Weight Distribution and Granularity\n",
    "\n",
    "`TODO`"
   ]
  },
  {
   "cell_type": "code",
   "execution_count": null,
   "metadata": {},
   "outputs": [],
   "source": []
  },
  {
   "cell_type": "markdown",
   "metadata": {},
   "source": [
    "### 3.4.4 Robustness\n",
    "\n",
    "`TODO`"
   ]
  },
  {
   "cell_type": "code",
   "execution_count": null,
   "metadata": {},
   "outputs": [],
   "source": []
  },
  {
   "cell_type": "markdown",
   "metadata": {},
   "source": [
    "## 3.5 Dynamic Programming (Weight Decomposition)\n",
    "\n",
    "`TODO`"
   ]
  },
  {
   "cell_type": "markdown",
   "metadata": {},
   "source": [
    "### 3.5.1 Knapsack Kapacity and Sum Weight Ratio\n",
    "\n",
    "`TODO`"
   ]
  },
  {
   "cell_type": "code",
   "execution_count": null,
   "metadata": {},
   "outputs": [],
   "source": []
  },
  {
   "cell_type": "markdown",
   "metadata": {},
   "source": [
    "### 3.5.2 Price and Weight Corelation\n",
    "\n",
    "`TODO`"
   ]
  },
  {
   "cell_type": "code",
   "execution_count": null,
   "metadata": {},
   "outputs": [],
   "source": []
  },
  {
   "cell_type": "markdown",
   "metadata": {},
   "source": [
    "### 3.5.3 Weight Distribution and Granularity\n",
    "\n",
    "`TODO`"
   ]
  },
  {
   "cell_type": "code",
   "execution_count": null,
   "metadata": {},
   "outputs": [],
   "source": []
  },
  {
   "cell_type": "markdown",
   "metadata": {},
   "source": [
    "### 3.5.4 Robustness\n",
    "\n",
    "`TODO`"
   ]
  },
  {
   "cell_type": "code",
   "execution_count": null,
   "metadata": {},
   "outputs": [],
   "source": []
  }
 ],
 "metadata": {
  "kernelspec": {
   "display_name": "Python 3",
   "language": "python",
   "name": "python3"
  },
  "language_info": {
   "codemirror_mode": {
    "name": "ipython",
    "version": 3
   },
   "file_extension": ".py",
   "mimetype": "text/x-python",
   "name": "python",
   "nbconvert_exporter": "python",
   "pygments_lexer": "ipython3",
   "version": "3.8.0"
  }
 },
 "nbformat": 4,
 "nbformat_minor": 4
}
