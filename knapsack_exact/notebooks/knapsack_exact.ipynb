{
 "cells": [
  {
   "cell_type": "markdown",
   "metadata": {},
   "source": [
    "# 1 Knapsack Problem\n",
    "\n",
    "The knapsack problem is one of the most trivial NP-hard problems. We can encounter many of its variants in the literature, which generally have various solution requirements for the algorithm. The formulation always contains criterium for the overall price, which means it is an optimization problem.\n",
    "\n",
    "## 1.1 Base of Problem\n",
    "\n",
    "We are given\n",
    "\n",
    "* integer $n$ (number of items)\n",
    "* integer $M$ (capacity of knapsack)\n",
    "* finite set $V = \\{v_1, v_2, \\dots, v_n\\}$ (weights of items)\n",
    "* finite set $C = \\{c_1, c_2, \\dots, c_n\\}$ (prices of items)\n",
    "\n",
    "\n",
    "## 1.2 Decision 0/1 Problem Form\n",
    "\n",
    "In this task, we will solve a decision problem form, which is one of the variants with some specific requirements:\n",
    "\n",
    "In addition to the input variables we define\n",
    "\n",
    "* positive integer $B$ (minimal required price)\n",
    "\n",
    "We say that the problem has a solution if we can find a set $X=\\{x_1, x_2, \\dots, x_n\\}$ where each $x_i$ is either $0$ or $1$, and\n",
    "\n",
    "$v_1x_1 + v_2x_2 + \\dots + v_nx_n \\le M$ (knapsack is not overloaded), and\n",
    "\n",
    "$c_1x_1 + c_2x_2 + \\dots + c_nx_n \\ge B$ (price is greater or equal to required price).\n",
    "\n",
    "<br>\n",
    "\n",
    "<cite data-cite=\"6752554/CXL66Z59\"></cite>"
   ]
  },
  {
   "cell_type": "markdown",
   "metadata": {},
   "source": [
    "# 2 Solution approaches\n",
    "\n",
    "\n",
    "In the following section, we will describe two basic approaches (algorithms) to solve this problem:\n",
    "\n",
    "* Brute force\n",
    "* Branch and bound (B&B)\n",
    "\n",
    "Both algorithms compute the optimal price and the configuration (vector of $n$-bits). The vector is equivalent to the set $X$ described in the **section 1.2**. We decide whether the problem is solvable by comparing the optimal price and the minimal required price $B$. The problem is solvable if the resulting price meets the requirements described in the **section 1.2**.\n",
    "\n",
    "In both of the algorithms, we use recursion to search the state space."
   ]
  },
  {
   "cell_type": "markdown",
   "metadata": {},
   "source": [
    "## 2.1 Brute Force\n",
    "\n",
    "In the brute force approach, we search (almost) the whole state space to find the optimal price and configuration. The truth is that we do not go through the entire state space – that's why almost. We add a simple condition that cuts the recursion branch if adding an item would result in the overloaded knapsack.\n",
    "\n",
    "Let us look at the code snippet of the algorithm:\n",
    "\n",
    "``` python\n",
    "def brute_force(conf, i, weight, price):\n",
    "    if i == instance.size:\n",
    "        solution.complexity += 1\n",
    "        if price >= solution.price:\n",
    "            solution.price = price\n",
    "            solution.weight = weight\n",
    "            solution.conf = conf\n",
    "        return\n",
    "\n",
    "    new_weight = instance.items[i].weight + weight\n",
    "\n",
    "    conf[i] = 1\n",
    "    if new_weight <= instance.capacity:\n",
    "        new_price = instance.items[i].price + price\n",
    "        brute_force(conf, i + 1, new_weight, new_price)\n",
    "\n",
    "    conf[i] = 0\n",
    "    brute_force(conf, i + 1, weight, price)\n",
    "```\n",
    "\n",
    "The algorithm starts by comparing the current depth of the recursion `i` with the size of the instance. We use to comparison to determine if we have already solved one of the branches of recursion. We increment the counter of the complexity – we later use this data in the analysis. If the `price` is greater or equal to the current optimal price, we update the `solution` object with the new values – `price`, `weight`, and vector configuration `conf`.\n",
    "\n",
    "Next, we compute a new weight by adding the current weight to the particular items' weight. To cover the whole state space, we have to call the recursion with the current bit set to either $0$ or $1$. We also have to recalculate the price and weight. We later send them the recursion if the bit is set to $1$ – it means that the item is added to the knapsack. Also, as mentioned above, we call the recursion with the added item only if the recalculated weight is less than or equal to the capacity of the knapsack – we don't overload the knapsack.\n",
    "\n",
    "The algorithm searches (almost) the entire state space and correctly computes the optimal price. The configuration, weight, and optimal price are stored in the `solution` object. We further use this objects' data in the **section 3** (analysis) and to answer the question of whether a particular instance is solvable or not."
   ]
  },
  {
   "cell_type": "markdown",
   "metadata": {},
   "source": [
    "## 2.2 Branch and Bound (B&B)\n",
    "\n",
    "The beginning of the B&B algorithm is the same as in the brute force algorithm. The only difference is in the second condition for the cutting of the recursion calls (state space). Let us look at the difference in the algorithm:\n",
    "\n",
    "``` python\n",
    "def branch_and_bound(conf, i, weight, price):\n",
    "    # The first condition is same as in the brute force algorithm...\n",
    "    \n",
    "    new_weight = instance.items[i].weight + weight\n",
    "    new_price = instance.items[i].price + price\n",
    "    upper_bound = price + instance.prices_sum(i=i)\n",
    "\n",
    "    conf[i] = 1\n",
    "    if (new_weight <= instance.capacity) and (upper_bound >= solution.price):\n",
    "        branch_and_bound(conf, i + 1, new_weight, new_price)\n",
    "\n",
    "    conf[i] = 0\n",
    "    branch_and_bound(conf, i + 1, weight, price)\n",
    "```\n",
    "\n",
    "We enhance the condition by checking if the current `price` added to the sum of prices of the unvisited items (on the index `i` and greater) is greater or equal to the current optimal price. We can cut the recursion branch if we do not meet this condition. This way, we cut the branches of the state space, which do not lead us to the optimal price."
   ]
  },
  {
   "cell_type": "markdown",
   "metadata": {},
   "source": [
    "# 3 Results Analysis\n",
    "\n",
    "\n",
    "We analyze the data using the *Python* language and its mathematical modules. The graphs and the whole report are rendered in the *Jupyter Notebook* – that's why we also add the code snippets in this report, which process data and generate the graphs. Data generated by the solution code are stored in the CSV format files, so we can easily load and process them.\n",
    "\n",
    "We start by loading and processing the data:"
   ]
  },
  {
   "cell_type": "code",
   "execution_count": 57,
   "metadata": {},
   "outputs": [],
   "source": [
    "import copy\n",
    "import numpy as np\n",
    "import pandas as pd\n",
    "import matplotlib.pyplot as plt"
   ]
  },
  {
   "cell_type": "code",
   "execution_count": 143,
   "metadata": {},
   "outputs": [],
   "source": [
    "# Helper functions\n",
    "\n",
    "def bar_plot(ax, data, colors=None, total_width=0.8, single_width=1, legend=True):\n",
    "    if colors is None:\n",
    "        colors = plt.rcParams['axes.prop_cycle'].by_key()['color']\n",
    "\n",
    "    n_bars = len(data)\n",
    "    bar_width = total_width / n_bars\n",
    "    bars = []\n",
    "\n",
    "    for i, (name, values) in enumerate(data.items()):\n",
    "        x_offset = (i - n_bars / 2) * bar_width + bar_width / 2\n",
    "        for x, y in enumerate(values):\n",
    "            bar = ax.bar(x + x_offset, y, width=bar_width * single_width, color=colors[i % len(colors)])\n",
    "            height = bar[0].get_height()\n",
    "            ax.annotate('{}'.format(height),\n",
    "                        xy=(bar[0].get_x() + bar[0].get_width() / 2, height),\n",
    "                        xytext=(0, 3),\n",
    "                        textcoords=\"offset points\",\n",
    "                        ha='center', va='bottom')\n",
    "        \n",
    "        bars.append(bar[0])\n",
    "\n",
    "    if legend:\n",
    "        ax.legend(bars, data.keys())"
   ]
  },
  {
   "cell_type": "code",
   "execution_count": 144,
   "metadata": {},
   "outputs": [
    {
     "ename": "NameError",
     "evalue": "name 'copy' is not defined",
     "output_type": "error",
     "traceback": [
      "\u001b[0;31m---------------------------------------------------------------------------\u001b[0m",
      "\u001b[0;31mNameError\u001b[0m                                 Traceback (most recent call last)",
      "\u001b[0;32m<ipython-input-144-7919d0dd6375>\u001b[0m in \u001b[0;36m<module>\u001b[0;34m\u001b[0m\n\u001b[1;32m      1\u001b[0m \u001b[0mdata\u001b[0m \u001b[0;34m=\u001b[0m \u001b[0;34m{\u001b[0m\u001b[0;34m\"NR\"\u001b[0m\u001b[0;34m:\u001b[0m \u001b[0;34m{\u001b[0m\u001b[0;34m\"bb\"\u001b[0m\u001b[0;34m:\u001b[0m \u001b[0;34m{\u001b[0m\u001b[0;34m}\u001b[0m\u001b[0;34m,\u001b[0m \u001b[0;34m\"bf\"\u001b[0m\u001b[0;34m:\u001b[0m \u001b[0;34m{\u001b[0m\u001b[0;34m}\u001b[0m\u001b[0;34m}\u001b[0m\u001b[0;34m,\u001b[0m \u001b[0;34m\"ZR\"\u001b[0m\u001b[0;34m:\u001b[0m \u001b[0;34m{\u001b[0m\u001b[0;34m\"bb\"\u001b[0m\u001b[0;34m:\u001b[0m \u001b[0;34m{\u001b[0m\u001b[0;34m}\u001b[0m\u001b[0;34m,\u001b[0m \u001b[0;34m\"bf\"\u001b[0m\u001b[0;34m:\u001b[0m \u001b[0;34m{\u001b[0m\u001b[0;34m}\u001b[0m\u001b[0;34m}\u001b[0m\u001b[0;34m}\u001b[0m\u001b[0;34m\u001b[0m\u001b[0;34m\u001b[0m\u001b[0m\n\u001b[1;32m      2\u001b[0m \u001b[0mmeans\u001b[0m \u001b[0;34m=\u001b[0m \u001b[0;34m{\u001b[0m\u001b[0;34m\"NR\"\u001b[0m\u001b[0;34m:\u001b[0m \u001b[0;34m{\u001b[0m\u001b[0;34m\"bb\"\u001b[0m\u001b[0;34m:\u001b[0m \u001b[0;34m[\u001b[0m\u001b[0;34m]\u001b[0m\u001b[0;34m,\u001b[0m \u001b[0;34m\"bf\"\u001b[0m\u001b[0;34m:\u001b[0m \u001b[0;34m[\u001b[0m\u001b[0;34m]\u001b[0m\u001b[0;34m}\u001b[0m\u001b[0;34m,\u001b[0m \u001b[0;34m\"ZR\"\u001b[0m\u001b[0;34m:\u001b[0m \u001b[0;34m{\u001b[0m\u001b[0;34m\"bb\"\u001b[0m\u001b[0;34m:\u001b[0m \u001b[0;34m[\u001b[0m\u001b[0;34m]\u001b[0m\u001b[0;34m,\u001b[0m \u001b[0;34m\"bf\"\u001b[0m\u001b[0;34m:\u001b[0m \u001b[0;34m[\u001b[0m\u001b[0;34m]\u001b[0m\u001b[0;34m}\u001b[0m\u001b[0;34m}\u001b[0m\u001b[0;34m\u001b[0m\u001b[0;34m\u001b[0m\u001b[0m\n\u001b[0;32m----> 3\u001b[0;31m \u001b[0mmaxes\u001b[0m \u001b[0;34m=\u001b[0m \u001b[0mcopy\u001b[0m\u001b[0;34m.\u001b[0m\u001b[0mdeep_copy\u001b[0m\u001b[0;34m(\u001b[0m\u001b[0mmeans\u001b[0m\u001b[0;34m)\u001b[0m\u001b[0;34m\u001b[0m\u001b[0;34m\u001b[0m\u001b[0m\n\u001b[0m\u001b[1;32m      4\u001b[0m \u001b[0;34m\u001b[0m\u001b[0m\n\u001b[1;32m      5\u001b[0m \u001b[0mdtypes\u001b[0m \u001b[0;34m=\u001b[0m \u001b[0;34m{\u001b[0m\u001b[0;34m\"solvable\"\u001b[0m\u001b[0;34m:\u001b[0m \u001b[0mbool\u001b[0m\u001b[0;34m,\u001b[0m \u001b[0;34m\"conf\"\u001b[0m\u001b[0;34m:\u001b[0m \u001b[0mstr\u001b[0m\u001b[0;34m,\u001b[0m \u001b[0;34m\"price\"\u001b[0m\u001b[0;34m:\u001b[0m \u001b[0mint\u001b[0m\u001b[0;34m,\u001b[0m \u001b[0;34m\"weight\"\u001b[0m\u001b[0;34m:\u001b[0m \u001b[0mint\u001b[0m\u001b[0;34m,\u001b[0m \u001b[0;34m\"time\"\u001b[0m\u001b[0;34m:\u001b[0m \u001b[0mfloat\u001b[0m\u001b[0;34m,\u001b[0m \u001b[0;34m\"complexity\"\u001b[0m\u001b[0;34m:\u001b[0m \u001b[0mint\u001b[0m\u001b[0;34m}\u001b[0m\u001b[0;34m\u001b[0m\u001b[0;34m\u001b[0m\u001b[0m\n",
      "\u001b[0;31mNameError\u001b[0m: name 'copy' is not defined"
     ]
    }
   ],
   "source": [
    "data = {\"NR\": {\"bb\": {}, \"bf\": {}}, \"ZR\": {\"bb\": {}, \"bf\": {}}}\n",
    "means = {\"NR\": {\"bb\": [], \"bf\": []}, \"ZR\": {\"bb\": [], \"bf\": []}}\n",
    "maxes = copy.deep_copy(means)\n",
    "\n",
    "dtypes = {\"solvable\": bool, \"conf\": str, \"price\": int, \"weight\": int, \"time\": float, \"complexity\": int}\n",
    "\n",
    "for v in [\"NR\", \"ZR\"]:\n",
    "    for t in [\"bb\", \"bf\"]:\n",
    "        for n in [4, 10, 15, 20, 22]:\n",
    "            df = pd.read_csv(f\"../data/output/{v}/{t}/{v}{n}_out.csv\", sep=\";\", dtype=dtypes )\n",
    "            means[v][t].append(df.complexity.mean())\n",
    "            maxes[v][t].append(df.complexity.max())\n",
    "            "
   ]
  },
  {
   "cell_type": "markdown",
   "metadata": {},
   "source": [
    "First, we look at the dependency between the size of the instance $n$ and the complexity of the computation. Complexity is defined as the number of the evaluated configurations of the $n$-bit vector. In the first graph, we take the **average complexity** of the instances:"
   ]
  },
  {
   "cell_type": "code",
   "execution_count": 140,
   "metadata": {},
   "outputs": [
    {
     "data": {
      "image/png": "[encoded data removed]",
      "text/plain": [
       "<Figure size 1152x648 with 1 Axes>"
      ]
     },
     "metadata": {
      "needs_background": "light"
     },
     "output_type": "display_data"
    }
   ],
   "source": [
    "fig, ax = plt.subplots()\n",
    "\n",
    "data = {\n",
    "    \"B&B (NR)\": means[\"NR\"][\"bb\"],\n",
    "    \"Brute Force (NR)\": means[\"NR\"][\"bf\"],\n",
    "    \"B&B (ZR)\": means[\"ZR\"][\"bb\"],\n",
    "    \"Brute Force (ZR)\": means[\"ZR\"][\"bf\"]\n",
    "}\n",
    "\n",
    "ax.set_title(\"Complexity by instance size\")\n",
    "\n",
    "ax.set_ylabel(\"Complexity\")\n",
    "ax.set_xlabel(\"Instance size\")\n",
    "ax.set_xticks(x)\n",
    "ax.set_xticklabels(labels)\n",
    "plt.yscale(\"log\")\n",
    "\n",
    "bar_plot(ax, data, total_width=.8, single_width=.9)\n",
    "\n",
    "plt.show()"
   ]
  },
  {
   "cell_type": "markdown",
   "metadata": {},
   "source": [
    "From the graph above, we can see a strong dependency between an instance's size and the average complexity of the computation. We can also note that the B&B algorithm successfully cut parts of the state space and lowered overall average complexity compared to the brute force version.\n",
    "\n",
    "Another observation we can make is that **ZR** data set is slightly more complex to solve than the **NR** data set for the brute force version. For the B&B version, the difference is even more significant. We can conclude that the **ZR** data set is more difficult to solve than the **NR** data set. We can also conclude that the B&B algorithm has an overall lower complexity than the brute force algorithm."
   ]
  },
  {
   "cell_type": "markdown",
   "metadata": {},
   "source": [
    "# Bibliography\n",
    "\n",
    "<br>\n",
    "\n",
    "<div class=\"cite2c-biblio\"></div>"
   ]
  },
  {
   "cell_type": "code",
   "execution_count": null,
   "metadata": {},
   "outputs": [],
   "source": []
  }
 ],
 "metadata": {
  "cite2c": {
   "citations": {
    "6752554/CXL66Z59": {
     "URL": "https://moodle-vyuka.cvut.cz/mod/page/view.php?id=89694",
     "accessed": {
      "day": 6,
      "month": 10,
      "year": 2020
     },
     "id": "6752554/CXL66Z59",
     "title": "B201-NI-KOP: Problém batohu (Knapsack Problem)",
     "type": "article"
    }
   }
  },
  "kernelspec": {
   "display_name": "Python 3",
   "language": "python",
   "name": "python3"
  },
  "language_info": {
   "codemirror_mode": {
    "name": "ipython",
    "version": 3
   },
   "file_extension": ".py",
   "mimetype": "text/x-python",
   "name": "python",
   "nbconvert_exporter": "python",
   "pygments_lexer": "ipython3",
   "version": "3.8.0"
  }
 },
 "nbformat": 4,
 "nbformat_minor": 4
}
