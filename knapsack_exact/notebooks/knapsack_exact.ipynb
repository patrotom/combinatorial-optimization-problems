{
 "cells": [
  {
   "cell_type": "markdown",
   "metadata": {},
   "source": [
    "# 1 Knapsack Problem\n",
    "\n",
    "The knapsack problem is one of the most trivial NP-hard problems. We can encounter many of its variants in the literature, which generally have various solution requirements for the algorithm. The formulation always contains criterium for the overall price, which means it is an optimization problem.\n",
    "\n",
    "## 1.1 Author of Report\n",
    "\n",
    "* **Name:** Tomáš Patro\n",
    "* **Username:** patrotom\n",
    "* **Email:** patrotom@fit.cvut.cz\n",
    "\n",
    "## 1.2 Base of Problem\n",
    "\n",
    "We are given\n",
    "\n",
    "* integer $n$ (number of items)\n",
    "* integer $M$ (capacity of knapsack)\n",
    "* finite set $V = \\{v_1, v_2, \\dots, v_n\\}$ (weights of items)\n",
    "* finite set $C = \\{c_1, c_2, \\dots, c_n\\}$ (prices of items)\n",
    "\n",
    "\n",
    "## 1.3 Decision 0/1 Problem Form\n",
    "\n",
    "In this task, we will solve a decision problem form, which is one of the variants with some specific requirements:\n",
    "\n",
    "In addition to the input variables we define\n",
    "\n",
    "* positive integer $B$ (minimal required price)\n",
    "\n",
    "We say that the problem has a solution if we can find a set $X=\\{x_1, x_2, \\dots, x_n\\}$ where each $x_i$ is either $0$ or $1$, and\n",
    "\n",
    "$v_1x_1 + v_2x_2 + \\dots + v_nx_n \\le M$ (knapsack is not overloaded), and\n",
    "\n",
    "$c_1x_1 + c_2x_2 + \\dots + c_nx_n \\ge B$ (price is greater or equal to required price).\n",
    "\n",
    "<br>\n",
    "\n",
    "<cite data-cite=\"6752554/CXL66Z59\"></cite>"
   ]
  },
  {
   "cell_type": "markdown",
   "metadata": {},
   "source": [
    "# 2 Solution approaches\n",
    "\n",
    "\n",
    "In the following section, we will describe two basic approaches (algorithms) to solve this problem:\n",
    "\n",
    "* Brute force\n",
    "* Branch and bound (B&B)\n",
    "\n",
    "Both algorithms compute the optimal price and the configuration (vector of $n$-bits). The vector is equivalent to the set $X$ described in the **section 1.2**. We decide whether the problem is solvable by comparing the optimal price and the minimal required price $B$. The problem is solvable if the resulting price meets the requirements described in the **section 1.2**.\n",
    "\n",
    "In both of the algorithms, we use recursion to search the state space."
   ]
  },
  {
   "cell_type": "markdown",
   "metadata": {},
   "source": [
    "## 2.1 Brute Force\n",
    "\n",
    "In the brute force approach, we search (almost) the whole state space to find the optimal price and configuration. The truth is that we do not go through the entire state space – that's why almost. We add a simple condition that cuts the recursion branch if adding an item would result in the overloaded knapsack.\n",
    "\n",
    "Let us look at the code snippet of the algorithm:\n",
    "\n",
    "``` python\n",
    "def brute_force(conf, i, weight, price):\n",
    "    if i == instance.size:\n",
    "        solution.complexity += 1\n",
    "        if price >= solution.price:\n",
    "            solution.price = price\n",
    "            solution.weight = weight\n",
    "            solution.conf = conf\n",
    "        return\n",
    "\n",
    "    new_weight = instance.items[i].weight + weight\n",
    "\n",
    "    conf[i] = 1\n",
    "    if new_weight <= instance.capacity:\n",
    "        new_price = instance.items[i].price + price\n",
    "        brute_force(conf, i + 1, new_weight, new_price)\n",
    "\n",
    "    conf[i] = 0\n",
    "    brute_force(conf, i + 1, weight, price)\n",
    "```\n",
    "\n",
    "The algorithm starts by comparing the current depth of the recursion `i` with the size of the instance. We use to comparison to determine if we have already solved one of the branches of recursion. We increment the counter of the complexity – we later use this data in the analysis. If the `price` is greater or equal to the current optimal price, we update the `solution` object with the new values – `price`, `weight`, and vector configuration `conf`.\n",
    "\n",
    "Next, we compute a new weight by adding the current weight to the particular items' weight. To cover the whole state space, we have to call the recursion with the current bit set to either $0$ or $1$. We also have to recalculate the price and weight. We later send them the recursion if the bit is set to $1$ – it means that the item is added to the knapsack. Also, as mentioned above, we call the recursion with the added item only if the recalculated weight is less than or equal to the capacity of the knapsack – we don't overload the knapsack.\n",
    "\n",
    "The algorithm searches (almost) the entire state space and correctly computes the optimal price. The configuration, weight, and optimal price are stored in the `solution` object. We further use this objects' data in the **section 3** (analysis) and to answer the question of whether a particular instance is solvable or not."
   ]
  },
  {
   "cell_type": "markdown",
   "metadata": {},
   "source": [
    "## 2.2 Branch and Bound (B&B)\n",
    "\n",
    "The beginning of the B&B algorithm is the same as in the brute force algorithm. The only difference is in the second condition for the cutting of the recursion calls (state space). Let us take a look at the difference in the algorithm:\n",
    "\n",
    "``` python\n",
    "def branch_and_bound(conf, i, weight, price):\n",
    "    # The first condition is same as in the brute force algorithm...\n",
    "    \n",
    "    new_weight = instance.items[i].weight + weight\n",
    "    new_price = instance.items[i].price + price\n",
    "    upper_bound = price + instance.prices_sum(i=i)\n",
    "\n",
    "    conf[i] = 1\n",
    "    if (new_weight <= instance.capacity) and (upper_bound >= solution.price):\n",
    "        branch_and_bound(conf, i + 1, new_weight, new_price)\n",
    "\n",
    "    conf[i] = 0\n",
    "    branch_and_bound(conf, i + 1, weight, price)\n",
    "```\n",
    "\n",
    "We enhance the condition by checking if the current `price` added to the sum of prices of the unvisited items (on the index `i` and greater) is greater or equal to the current optimal price. We can cut the recursion branch if we do not meet this condition. This way, we cut the branches of the state space, which do not lead us to the optimal price."
   ]
  },
  {
   "cell_type": "markdown",
   "metadata": {},
   "source": [
    "# 3 Results Analysis\n",
    "\n",
    "\n",
    "We analyze the data using the *Python* language and its mathematical modules. The graphs and the whole report are rendered in the *Jupyter Notebook* – that's why we also add the code snippets in this report, which process data and generate the graphs. Data generated by the solution code are stored in the CSV format files, so we can easily load and process them.\n",
    "\n",
    "We start by loading and processing the data:"
   ]
  },
  {
   "cell_type": "code",
   "execution_count": null,
   "metadata": {},
   "outputs": [],
   "source": [
    "import copy\n",
    "import numpy as np\n",
    "import pandas as pd\n",
    "import matplotlib.pyplot as plt\n",
    "import matplotlib.ticker as ticker"
   ]
  },
  {
   "cell_type": "code",
   "execution_count": null,
   "metadata": {},
   "outputs": [],
   "source": [
    "# Helper functions\n",
    "\n",
    "def bar_plot(ax, data, colors=None, total_width=0.8, single_width=1, legend=True):\n",
    "    if colors is None:\n",
    "        colors = plt.rcParams['axes.prop_cycle'].by_key()['color']\n",
    "\n",
    "    n_bars = len(data)\n",
    "    bar_width = total_width / n_bars\n",
    "    bars = []\n",
    "\n",
    "    for i, (name, values) in enumerate(data.items()):\n",
    "        x_offset = (i - n_bars / 2) * bar_width + bar_width / 2\n",
    "        for x, y in enumerate(values):\n",
    "            bar = ax.bar(x + x_offset, y, width=bar_width * single_width, color=colors[i % len(colors)])\n",
    "            height = bar[0].get_height()\n",
    "            ax.annotate('{}'.format(height),\n",
    "                        xy=(bar[0].get_x() + bar[0].get_width() / 2, height),\n",
    "                        xytext=(0, 3),\n",
    "                        textcoords=\"offset points\",\n",
    "                        ha='center', va='bottom')\n",
    "        \n",
    "        bars.append(bar[0])\n",
    "\n",
    "    if legend:\n",
    "        ax.legend(bars, data.keys())\n",
    "\n",
    "def complexity_graph(clxs, ax, version=\"mean\"):\n",
    "    data = {\n",
    "    \"B&B (NR)\": clxs[\"NR\"][\"bb\"],\n",
    "    \"Brute Force (NR)\": clxs[\"NR\"][\"bf\"],\n",
    "    \"B&B (ZR)\": clxs[\"ZR\"][\"bb\"],\n",
    "    \"Brute Force (ZR)\": clxs[\"ZR\"][\"bf\"]\n",
    "    }\n",
    "    \n",
    "    labels = [\"4\", \"10\", \"15\", \"20\", \"22\"]\n",
    "    x = np.arange(len(labels))\n",
    "\n",
    "    prefix = \"Average\" if version == \"mean\" else \"Maximal\" \n",
    "\n",
    "    ax.set_title(f\"{prefix} complexity by instance size\")\n",
    "\n",
    "    ax.set_ylabel(\"Complexity\")\n",
    "    ax.set_xlabel(\"Instance size\")\n",
    "    ax.set_xticks(x)\n",
    "    ax.set_xticklabels(labels)\n",
    "    plt.yscale(\"log\")\n",
    "\n",
    "    bar_plot(ax, data, total_width=.8, single_width=.9)\n",
    "    \n",
    "def time_graph(times, ax, version=\"mean\"):\n",
    "    data = {\n",
    "    \"B&B (NR)\": times[\"NR\"][\"bb\"],\n",
    "    \"Brute Force (NR)\": times[\"NR\"][\"bf\"],\n",
    "    \"B&B (ZR)\": times[\"ZR\"][\"bb\"],\n",
    "    \"Brute Force (ZR)\": times[\"ZR\"][\"bf\"]\n",
    "    }\n",
    "    \n",
    "    labels = [\"4\", \"10\", \"15\", \"20\", \"22\"]\n",
    "    x = np.arange(len(labels))\n",
    "    \n",
    "    prefix = \"Average\" if version == \"mean\" else \"Maximal\" \n",
    "\n",
    "    ax.set_title(f\"{prefix} execution time by instance size\")\n",
    "\n",
    "    ax.set_ylabel(\"Execution time [ms]\")\n",
    "    ax.set_xlabel(\"Instance size\")\n",
    "    ax.set_xticks(x)\n",
    "    ax.set_xticklabels(labels)\n",
    "    plt.yscale(\"log\")\n",
    "\n",
    "    bar_plot(ax, data, total_width=.8, single_width=.9)"
   ]
  },
  {
   "cell_type": "code",
   "execution_count": null,
   "metadata": {},
   "outputs": [],
   "source": [
    "data = {\"NR\": {\"bb\": {}, \"bf\": {}}, \"ZR\": {\"bb\": {}, \"bf\": {}}}\n",
    "c_means = {\"NR\": {\"bb\": [], \"bf\": []}, \"ZR\": {\"bb\": [], \"bf\": []}}\n",
    "c_maxes = copy.deepcopy(c_means)\n",
    "clxs = copy.deepcopy(c_means)\n",
    "t_means = copy.deepcopy(c_means)\n",
    "t_maxes = copy.deepcopy(c_means)\n",
    "\n",
    "dtypes = {\"solvable\": bool, \"conf\": str, \"price\": int, \"weight\": int, \"time\": float, \"complexity\": int}\n",
    "\n",
    "for v in [\"NR\", \"ZR\"]:\n",
    "    for t in [\"bb\", \"bf\"]:\n",
    "        for n in [4, 10, 15, 20, 22]:\n",
    "            df = pd.read_csv(f\"../data/output/{v}/{t}/{v}{n}_out.csv\", sep=\";\", dtype=dtypes )\n",
    "            c_means[v][t].append(df.complexity.mean())\n",
    "            c_maxes[v][t].append(df.complexity.max())\n",
    "            t_means[v][t].append(float(\"{:.2f}\".format(df.time.mean() * 1000)))\n",
    "            t_maxes[v][t].append(float(\"{:.2f}\".format(df.time.max() * 1000)))\n",
    "            if n == 20:\n",
    "                clxs[v][t] = df.complexity"
   ]
  },
  {
   "cell_type": "markdown",
   "metadata": {},
   "source": [
    "## 3.1 Complexity Analysis\n",
    "\n",
    "First, we look at the dependency between the size of the instance $n$ and the complexity of the computation. Complexity is defined as the number of the evaluated configurations of the $n$-bit vector. In the first graph, we take the **average complexity** of the instances:"
   ]
  },
  {
   "cell_type": "code",
   "execution_count": null,
   "metadata": {},
   "outputs": [],
   "source": [
    "fig, ax = plt.subplots()\n",
    "complexity_graph(c_means, ax)\n",
    "plt.rcParams['figure.figsize'] = (16, 9)\n",
    "plt.show()"
   ]
  },
  {
   "cell_type": "markdown",
   "metadata": {},
   "source": [
    "From the graph above, we can see a strong dependency between an instance's size and the average complexity of the computation. We can also note that the B&B algorithm successfully cut parts of the state space and lowered overall average complexity compared to the brute force version.\n",
    "\n",
    "Another observation we can make is that **ZR** data set is slightly more complex to solve than the **NR** data set for the brute force version. For the B&B version, the difference is even more significant. We can conclude that the **ZR** data set is more difficult to solve than the **NR** data set. We can also conclude that the B&B algorithm has an overall lower complexity than the brute force algorithm."
   ]
  },
  {
   "cell_type": "markdown",
   "metadata": {},
   "source": [
    "We can also take a look at a similar graph where we replace the average complexity with the maximal complexity for a particular instance size:"
   ]
  },
  {
   "cell_type": "code",
   "execution_count": null,
   "metadata": {},
   "outputs": [],
   "source": [
    "fig, ax = plt.subplots()\n",
    "complexity_graph(c_maxes, ax, version=\"max\")\n",
    "plt.show()"
   ]
  },
  {
   "cell_type": "markdown",
   "metadata": {},
   "source": [
    "Interestingly, maximal complexity is higher in the **NR** data set than in the **ZR** data set for the brute force version. There is a more complex problem to solve for all instance sizes in the **NR** data set than in the **ZR** data set. On the other hand, we can see that B&B is more successful in the state space cutting in the **NR** data set than in the **ZR** data set.\n",
    "\n",
    "Now, let's take a look at the complexity histograms:"
   ]
  },
  {
   "cell_type": "code",
   "execution_count": null,
   "metadata": {},
   "outputs": [],
   "source": [
    "fig, axs = plt.subplots(2, 2, tight_layout=True)\n",
    "\n",
    "for i in [0, 1]:\n",
    "    for j in [0, 1]:\n",
    "        axs[i][j].set_xlabel(\"complexity\")\n",
    "        axs[i][j].set_ylabel(\"count\")\n",
    "        axs[i][j].ticklabel_format(style=\"plain\")\n",
    "\n",
    "axs[0][0].set_title(\"Complexity histogram – Brute Force (NR)\")\n",
    "axs[0][0].hist(clxs[\"NR\"][\"bf\"], bins=30, color=\"orange\")\n",
    "x = np.linspace(start=min(clxs[\"NR\"][\"bf\"]), stop=max(clxs[\"NR\"][\"bf\"]), num=5, dtype=int)\n",
    "axs[0][0].set_xticks(x)\n",
    "\n",
    "axs[0][1].set_title(\"Complexity histogram – B&B (NR)\")\n",
    "axs[0][1].hist(clxs[\"NR\"][\"bb\"], bins=30, color=\"blue\")\n",
    "x = np.linspace(start=min(clxs[\"NR\"][\"bb\"]), stop=max(clxs[\"NR\"][\"bb\"]), num=5, dtype=int)\n",
    "axs[0][1].set_xticks(x)\n",
    "\n",
    "axs[1][0].set_title(\"Complexity histogram – Brute Force (ZR)\")\n",
    "axs[1][0].hist(clxs[\"ZR\"][\"bf\"], bins=30, color=\"green\")\n",
    "x = np.linspace(start=min(clxs[\"ZR\"][\"bf\"]), stop=max(clxs[\"ZR\"][\"bf\"]), num=5, dtype=int)\n",
    "axs[1][0].set_xticks(x)\n",
    "\n",
    "axs[1][1].set_title(\"Complexity histogram – B&B (ZR)\")\n",
    "axs[1][1].hist(clxs[\"ZR\"][\"bb\"], bins=30, color=\"red\")\n",
    "x = np.linspace(start=min(clxs[\"ZR\"][\"bb\"]), stop=max(clxs[\"ZR\"][\"bb\"]), num=5, dtype=int)\n",
    "axs[1][1].set_xticks(x)\n",
    "\n",
    "plt.show()"
   ]
  },
  {
   "cell_type": "markdown",
   "metadata": {},
   "source": [
    "From the above histograms, we can see a higher frequency of a lower complexity using the B&B version and the NR data set. The brute force version frequently has either low or high complexity using the NR data set. We can assume that the brute force version starts to be ineffective once we reach a defined size $n$ of an instance or encounter a complex configuration. On the other hand, the B&B version successfully cuts the state space for most instance sizes and configurations of the knapsack.\n",
    "\n",
    "The algorithms behave in a different manner using the ZR data set. We can see that the complexities have an almost normal distribution. We can assume that the ZR data sets' configuration complexities may come from a normal distribution."
   ]
  },
  {
   "cell_type": "markdown",
   "metadata": {},
   "source": [
    "## 3.2 Execution Time Analysis\n",
    "\n",
    "We measured the execution time for each run of the algorithm and saved the data to the CSV files. The execution time was measured using the Python `timeit` module, which measures CPU time. The times you see in the graphs are represented in **milliseconds**.\n",
    "\n",
    "Computer configuration:\n",
    "\n",
    "* **CPU:** Intel(R) Core(TM) i5-8265U CPU @ 1.60GHz\n",
    "* **OS:** Linux Mint 19.2\n",
    "* **Linux kernel:** 5.4.0-48-generic \n",
    "\n",
    "\n",
    "We can use this data to see how is the execution time affected by the version of the algorithm, and the instance size $n$. First, let's look at the average execution times:"
   ]
  },
  {
   "cell_type": "code",
   "execution_count": null,
   "metadata": {},
   "outputs": [],
   "source": [
    "fig, ax = plt.subplots()\n",
    "time_graph(t_means, ax)\n",
    "plt.show()"
   ]
  },
  {
   "cell_type": "markdown",
   "metadata": {},
   "source": [
    "From the graph above, we can see that the execution time grows exponentially. We experimentally confirmed $O(2^n)$ computation complexity of the algorithm. We can see that the B&B version lowers the execution time on most of the instance sizes. The difference is more significant using the NR data set. We can also confirm that, even though the B&B version speeds up the execution time, the version still has $O(2^n)$ complexity.\n",
    "\n",
    "Let's take a look at the same graph, but using the maximal execution times:"
   ]
  },
  {
   "cell_type": "code",
   "execution_count": null,
   "metadata": {},
   "outputs": [],
   "source": [
    "fig, ax = plt.subplots()\n",
    "time_graph(t_maxes, ax, version=\"max\")\n",
    "plt.show()"
   ]
  },
  {
   "cell_type": "markdown",
   "metadata": {},
   "source": [
    "We can see that the maximal graph is similar to the average graph. It experimentally again confirms the algorithms' $O(2^n)$ complexity."
   ]
  },
  {
   "cell_type": "markdown",
   "metadata": {},
   "source": [
    "# 4 Conclusion\n",
    "\n",
    "First, we explained the base of the Knapsack problem and formally described it alongside the problem variables. We also specified the form of the problem we analyze in the report. Next, we described two versions of the algorithm that solves the problem – brute force and B&B.\n",
    "\n",
    "In the second part of the report, we experimentally analyzed several aspects of the Knapsack combinatorial optimization problem. We looked at how the complexity of the computation behaves with the raising instance size. Also, we analyzed how the CPU computation time changes when the instance size changes. We generated graphs both with the average complexity (time) and maximal complexity (time) of the instance sizes. We also looked at the complexity histograms, which told us how different algorithm versions react to different instance sizes and data sets.\n",
    "\n",
    "We analyzed the characteristics of the problem and compared how the different versions of the algorithm behave when we use different data sets.\n",
    "\n",
    "We experimentally confirmed that the algorithm has $O(2^n)$ complexity, and the complexity and computation time exponentially rise with the rising instance sizes. It is a known fact that the Knapsack problem is an algorithm with exponential complexity. Thus, by experimentally confirming this fact, we can conclude that our measured data are correct and reflect reality."
   ]
  },
  {
   "cell_type": "markdown",
   "metadata": {},
   "source": [
    "# Bibliography\n",
    "\n",
    "<br>\n",
    "\n",
    "<div class=\"cite2c-biblio\"></div>"
   ]
  }
 ],
 "metadata": {
  "cite2c": {
   "citations": {
    "6752554/CXL66Z59": {
     "URL": "https://moodle-vyuka.cvut.cz/mod/page/view.php?id=89694",
     "accessed": {
      "day": 6,
      "month": 10,
      "year": 2020
     },
     "id": "6752554/CXL66Z59",
     "title": "B201-NI-KOP: Problém batohu (Knapsack Problem)",
     "type": "article"
    }
   }
  },
  "kernelspec": {
   "display_name": "Python 3",
   "language": "python",
   "name": "python3"
  },
  "language_info": {
   "codemirror_mode": {
    "name": "ipython",
    "version": 3
   },
   "file_extension": ".py",
   "mimetype": "text/x-python",
   "name": "python",
   "nbconvert_exporter": "python",
   "pygments_lexer": "ipython3",
   "version": "3.8.0"
  }
 },
 "nbformat": 4,
 "nbformat_minor": 4
}
